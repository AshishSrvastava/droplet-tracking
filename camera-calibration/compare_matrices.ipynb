{
 "cells": [
  {
   "cell_type": "code",
   "execution_count": 1,
   "metadata": {},
   "outputs": [],
   "source": [
    "import numpy as np\n",
    "import matplotlib.pyplot as plt\n"
   ]
  },
  {
   "cell_type": "code",
   "execution_count": 9,
   "metadata": {},
   "outputs": [
    {
     "ename": "IndentationError",
     "evalue": "unexpected indent (3606427562.py, line 16)",
     "output_type": "error",
     "traceback": [
      "\u001b[0;36m  Cell \u001b[0;32mIn[9], line 16\u001b[0;36m\u001b[0m\n\u001b[0;31m    Translation Vectors:\u001b[0m\n\u001b[0m    ^\u001b[0m\n\u001b[0;31mIndentationError\u001b[0m\u001b[0;31m:\u001b[0m unexpected indent\n"
     ]
    }
   ],
   "source": [
    "veda_distortion_matr = np.array([[2.51859320e+03, 0.00000000e+00, 1.61308333e+03],\n",
    " [0.00000000e+00, 2.64386474e+03, 2.29079218e+03],\n",
    " [0.00000000e+00, 0.00000000e+00, 1.00000000e+00]])\n",
    "\n",
    "veda_distortion_coeff = np.array([[-0.00225511, -0.3730469, -0.02478544, -0.01167432, 0.52906048]])\n",
    "\n",
    "veda_rotation_vectors = [np.array([[-0.22860323], [-0.56769533], [-2.02694221]]),\n",
    "                        np.array([[-0.37236873], [-0.00972739], [-0.03417783]]), \n",
    "                        np.array([[-0.57144478], [ 0.74930948], [ 2.45519884]]), \n",
    "                        np.array([[-0.4700357 ], [ 0.59818767], [-0.25136095]])]\n",
    "veda_translation_vectors = \n",
    "\n",
    " Translation Vectors:\n",
    "(array([[ 1.10049952],\n",
    "       [-0.30945937],\n",
    "       [10.34585432]]), array([[-3.42846412],\n",
    "       [-4.46120217],\n",
    "       [17.68728685]]), array([[ 0.81968688],\n",
    "       [-1.00290035],\n",
    "       [15.31412188]]), array([[-1.44894378],\n",
    "       [-6.28270033],\n",
    "       [20.41398239]]))\n",
    "ashish_distortion = np.array([[2.73883498e+03, 0.00000000e+00, 1.87701862e+03],\n",
    " [0.00000000e+00, 2.71781331e+03,2.09937064e+03],\n",
    " [0.00000000e+00, 0.00000000e+00, 1.00000000e+00]])"
   ]
  },
  {
   "cell_type": "code",
   "execution_count": 8,
   "metadata": {},
   "outputs": [
    {
     "name": "stdout",
     "output_type": "stream",
     "text": [
      "[[-220.24178    0.      -263.93529]\n",
      " [   0.       -73.94857  191.42154]\n",
      " [   0.         0.         0.     ]]\n"
     ]
    }
   ],
   "source": [
    "print(veda_distortion-ashish_distortion)"
   ]
  },
  {
   "cell_type": "code",
   "execution_count": 22,
   "metadata": {},
   "outputs": [],
   "source": [
    "aditya_inside_matrix = np.array([[3.10509613e+03, 0.00000000e+00, 2.00838349e+03],\n",
    " [0.00000000e+00, 3.10200975e+03, 1.09013914e+03],\n",
    " [0.00000000e+00, 0.00000000e+00, 1.00000000e+00]])\n",
    "\n",
    "aditya_outside_matrix = np.array([[3.05128562e+03, 0.00000000e+00, 2.01896570e+03],\n",
    " [0.00000000e+00, 3.04687872e+03, 1.09365105e+03],\n",
    " [0.00000000e+00, 0.00000000e+00, 1.00000000e+00]])\n",
    "\n",
    "aditya_trial_2 = np.array([[3.56675878e+03, 0.00000000e+00, 1.30715772e+03],\n",
    " [0.00000000e+00, 3.54011576e+03, 1.11736970e+03],\n",
    " [0.00000000e+00, 0.00000000e+00, 1.00000000e+00]])"
   ]
  },
  {
   "cell_type": "code",
   "execution_count": 23,
   "metadata": {},
   "outputs": [
    {
     "data": {
      "text/plain": [
       "0.0"
      ]
     },
     "execution_count": 23,
     "metadata": {},
     "output_type": "execute_result"
    }
   ],
   "source": [
    "(aditya_trial_2 - aditya_trial_2_cleaned)[0,0]/aditya_trial_2[0,0] * 100"
   ]
  },
  {
   "cell_type": "code",
   "execution_count": null,
   "metadata": {},
   "outputs": [],
   "source": []
  }
 ],
 "metadata": {
  "kernelspec": {
   "display_name": "davisgroup",
   "language": "python",
   "name": "python3"
  },
  "language_info": {
   "codemirror_mode": {
    "name": "ipython",
    "version": 3
   },
   "file_extension": ".py",
   "mimetype": "text/x-python",
   "name": "python",
   "nbconvert_exporter": "python",
   "pygments_lexer": "ipython3",
   "version": "3.9.15"
  },
  "orig_nbformat": 4,
  "vscode": {
   "interpreter": {
    "hash": "176e86184e3f9b4c4fd3618e845281094d84833a1552fa1553a1fd23cd60a4b2"
   }
  }
 },
 "nbformat": 4,
 "nbformat_minor": 2
}
